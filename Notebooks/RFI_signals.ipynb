{
 "cells": [
  {
   "cell_type": "code",
   "execution_count": 1,
   "metadata": {
    "collapsed": true
   },
   "outputs": [],
   "source": [
    "import numpy as np\n",
    "import matplotlib.pyplot as plt\n",
    "\n",
    "%matplotlib inline\n",
    "%matplotlib qt"
   ]
  },
  {
   "cell_type": "markdown",
   "metadata": {},
   "source": [
    "## Playing around with realistic RFI signals\n",
    "\n",
    "These suite of functions create RFI signals with various digital encoding schemes.\n",
    "\n",
    "<br>\n",
    "\n",
    "Most of them follow the same basic flow:\n",
    "\n",
    "\\> Create random bit sequence\n",
    "\n",
    "\\> Create symbol sequence from bit sequence , maybe smooth it\n",
    "\n",
    "\\> Apply to carrier frequency signal\n",
    "\n",
    "\\> Return time-domain signal and symbol sequence\n",
    "\n",
    "<br>\n",
    "\n",
    "Remaining issues:\n",
    "\n",
    "RFI signals are way too wide in frequency space - need to occupy two or less channels\n",
    "\n",
    "Input power is always the same (except for amplitude-encoded signals), no code to change the power is written\n",
    "\n",
    "Frequency-shift encoding functions do not maintain phase across frequency shifts\n",
    "\n",
    "# Warning: the signal functions below are copied in ../signal.py - those are meant to be more complete versions, while this notebook is intended as a scratch space\n"
   ]
  },
  {
   "cell_type": "code",
   "execution_count": 3,
   "metadata": {
    "collapsed": true
   },
   "outputs": [],
   "source": [
    "#create square wave (for duty cycle)\n",
    "def sq(x,dc,dc_per):\n",
    "        y = np.zeros(len(x))\n",
    "        for i in range(len(x)//dc_per):\n",
    "            start = int(i*dc_per)\n",
    "            end = int(start + dc*dc_per)\n",
    "            #y[start:end] = 1\n",
    "            y[start:end] = np.hamming(end-start)\n",
    "        return y\n"
   ]
  },
  {
   "cell_type": "code",
   "execution_count": 2,
   "metadata": {
    "collapsed": true
   },
   "outputs": [],
   "source": [
    "#Simulating r0800x4096 observations\n",
    "bw = 800e6\n",
    "fs = bw\n",
    "ts = 1/fs\n",
    "\n",
    "\n",
    "\n",
    "Nchan = 4096\n",
    "Nint = 1\n",
    "N=Nchan*Nint\n",
    "x = np.arange(N)\n",
    "\n",
    "#frequency axis\n",
    "m = x*fs/N"
   ]
  },
  {
   "cell_type": "markdown",
   "metadata": {},
   "source": [
    "## Guide to RFI waveform function inputs\n",
    "\n",
    "=======================================\n",
    "\n",
    "x       : index array (np.arange(N)) for N total points\n",
    "\n",
    "dB      : power of input signal. I don't even have the code written yet, so keep this at 0.\n",
    "\n",
    "fc      : carrier frequency of RFI signal.\n",
    "\n",
    "f0\\*     : space frequency (bit = 0) for frequency shift-keyed encoding\n",
    "\n",
    "f1\\*     : mark frequency (bit = 1) for frequency shift-keyed encoding\n",
    "\n",
    "T_bit\\*  : number of time samples per encoded bit.\n",
    "\n",
    "bias    : relative voltage bias for amplitude-encoded signals. So that bit = 00 isn't zero voltage.\n",
    "\n",
    "======================================\n",
    "\n",
    "*fc replaced by f0/f1 in frequency-shift encoding\n",
    "\n",
    "\n",
    "*At sampling frequency of 800MHz, T_bit=400 is a 2Mbit/s data rate\n",
    "\n"
   ]
  },
  {
   "cell_type": "code",
   "execution_count": 3,
   "metadata": {
    "collapsed": true
   },
   "outputs": [],
   "source": [
    "#===========================================\n",
    "#Phase-shift encoding\n",
    "#===========================================\n",
    "\n",
    "def bpsk(x,dB,fc,T_bit):\n",
    "    bit_seq = np.random.randint(0,high=2,size=int(len(x)/T_bit)+1)\n",
    "    sym_seq = 2*bit_seq-1\n",
    "    \n",
    "    p_of_t = np.ones(T_bit)\n",
    "    s_of_t = np.kron(sym_seq,p_of_t)[:len(x)]\n",
    "    #apply carrier freq\n",
    "\n",
    "    e_vec = np.exp(2.j*np.pi*fc*x*ts)\n",
    "    x_of_t = s_of_t*e_vec\n",
    "    return x_of_t,s_of_t\n",
    "    \n",
    "\n",
    "#quadrature phase shift keying\n",
    "#same as binary phase shift, but information encoded is 2-bit, leading to 4 phases (45deg,135,225,315)\n",
    "def qpsk(x,dB,fc,T_bit):\n",
    "    sym_seq = np.random.randint(1,high=5,size = int(len(x)/T_bit)+1)\n",
    "    pulse = np.ones(T_bit)\n",
    "    sym_seq = np.kron(sym_seq,pulse)[:len(x)]\n",
    "    \n",
    "    arg = 1.j*((2*np.pi*fc*x*ts) + (2*sym_seq-1)*(np.pi/4))\n",
    "    sig = np.exp(arg)\n",
    "    \n",
    "    return sig,sym_seq\n"
   ]
  },
  {
   "cell_type": "code",
   "execution_count": 4,
   "metadata": {
    "collapsed": true
   },
   "outputs": [],
   "source": [
    "#===========================================\n",
    "#Frequency-shift encoding\n",
    "#===========================================\n",
    "\n",
    "\n",
    "#binary freq-shift keying - switch between 2 freqs\n",
    "def bfsk(x,dB,f0,f1,T_bit):\n",
    "    #make bit sequence\n",
    "    bit_seq = np.random.randint(0,high=2,size=int(len(x)/T_bit))\n",
    "    pulse = np.ones(T_bit)\n",
    "    sym_seq = np.kron(bit_seq,pulse)\n",
    "    \n",
    "    #apply to mark/space frequencies\n",
    "    #need to make sure phase doesn't change\n",
    "    #there is a vectorized way to do this im sure but im lazy\n",
    "    sig = np.zeros(len(x),dtype=np.complex64)\n",
    "    phase = 0\n",
    "    for i in range(int(len(x)/T_bit)):\n",
    "        if bit_seq[i] == 1:\n",
    "            arg = 1.j*((2*np.pi*fm*x[i*T_bit:(i+1)*T_bit]*ts)+phase)\n",
    "            sig[i*T_bit:(i+1)*T_bit] = np.exp(arg)\n",
    "            phase += fm*ts*T_bit\n",
    "        else:\n",
    "            arg = 1.j*((2*np.pi*fs*x[i*T_bit:(i+1)*T_bit]*ts)+phase)\n",
    "            sig[i*T_bit:(i+1)*T_bit] = np.exp(arg)\n",
    "            phase += fm*ts*T_bit\n",
    "\n",
    "    return sig,sym_seq\n",
    "\n",
    "\n",
    "#binary freq-shift keying - switch between 2 freqs, with smoothing of symbol sequence\n",
    "def bfsk_smoothed(x,dB,fs,fm,T_bit):\n",
    "    #make bit sequence\n",
    "    bit_seq = np.random.randint(0,high=2,size=int(len(x)/T_bit)+1)\n",
    "    pulse = np.ones(T_bit)\n",
    "    sym_seq = np.kron(bit_seq,pulse)[:len(x)]\n",
    "\n",
    "    gaus = np.exp((-(x-(len(x)/2))**2)/(2*(T_bit*0.1)**2))\n",
    "    \n",
    "    hann = np.hanning(int(T_bit*0.1))\n",
    "    sym_seq = np.convolve(sym_seq,hann,mode='same')\n",
    "    sym_seq = sym_seq/np.max(sym_seq)\n",
    "    \n",
    "    f_diff = fm-fs\n",
    "    freq_seq = fs + (sym_seq)*f_diff\n",
    "\n",
    "    arg = (2.j*np.pi*freq_seq*x*ts)\n",
    "    sig = np.exp(arg)\n",
    "\n",
    "    return sig,sym_seq,smoothed\n"
   ]
  },
  {
   "cell_type": "code",
   "execution_count": 5,
   "metadata": {
    "collapsed": true
   },
   "outputs": [],
   "source": [
    "#===========================================\n",
    "#Amplitude-shift encoding\n",
    "#===========================================\n",
    "\n",
    "#4-level amplitude keying signal, with hanning smoothing\n",
    "#bias: voltage bias\n",
    "def ask_2bit(x,dB,fc,T_bit,bias):\n",
    "    bit_seq = np.random.randint(0,5,size=int(len(x)/T_bit)+1)+bias\n",
    "    #plt.plot(bit_seq)\n",
    "    pulse = np.ones(T_bit)\n",
    "    sym_seq = np.kron(bit_seq,pulse)[:len(x)]\n",
    "\n",
    "    #smooth by hanning window that is 20% the time width of one bit\n",
    "    hann1 = np.hanning(int(T_bit*0.2))\n",
    "    #plt.plot(hann)\n",
    "    sym_seq = np.convolve(sym_seq,hann1,mode='same')\n",
    "    \n",
    "    sym_seq = sym_seq / np.max(sym_seq)\n",
    "    \n",
    "    #apply carrier signal\n",
    "    e_vec = np.exp(2.j*np.pi*fc*x*ts)\n",
    "    \n",
    "    sig = sym_seq * e_vec\n",
    "    \n",
    "    return sig,sym_seq"
   ]
  },
  {
   "cell_type": "code",
   "execution_count": 6,
   "metadata": {
    "collapsed": true
   },
   "outputs": [],
   "source": [
    "#perform FFT and determine frequency response\n",
    "\n",
    "def freq_resp(sig,enc):\n",
    "    N = len(sig)\n",
    "    I = np.fft.fft(sig)\n",
    "    I = I * I.conj()\n",
    "    #I = np.fft.fftshift(I)\n",
    "    I = I.real/(N)\n",
    "    freq_vec = np.arange(0,800,800/4096)\n",
    "    plt.plot(x,10*np.log10(I),label=enc)"
   ]
  },
  {
   "cell_type": "code",
   "execution_count": 11,
   "metadata": {
    "collapsed": false
   },
   "outputs": [],
   "source": [
    "#make some signals\n",
    "\n",
    "x = np.arange(4096)\n",
    "\n",
    "N0_dB = -10\n",
    "\n",
    "\n",
    "#noise\n",
    "\n",
    "n_of_t = np.random.normal(0,1,size=len(x)) + 1.j*np.random.normal(0,1,size=len(x))\n",
    "noise_power = np.var(n_of_t)\n",
    "\n",
    "N0_linear = 10**(N0_dB/10)\n",
    "pow_factor = np.sqrt(N0_linear / noise_power)\n",
    "n_of_t = n_of_t*pow_factor\n",
    "\n",
    "\n",
    "\n"
   ]
  },
  {
   "cell_type": "code",
   "execution_count": 49,
   "metadata": {
    "collapsed": false
   },
   "outputs": [],
   "source": [
    "sig,sym_seq = ask_2bit(x,0,400e6,400,0.5)\n",
    "\n",
    "data = sig + n_of_t\n",
    "\n",
    "freq_resp(data,'ask_2bit')"
   ]
  },
  {
   "cell_type": "code",
   "execution_count": null,
   "metadata": {
    "collapsed": true
   },
   "outputs": [],
   "source": []
  },
  {
   "cell_type": "code",
   "execution_count": null,
   "metadata": {
    "collapsed": true
   },
   "outputs": [],
   "source": []
  },
  {
   "cell_type": "code",
   "execution_count": 50,
   "metadata": {
    "collapsed": false
   },
   "outputs": [
    {
     "data": {
      "text/plain": [
       "<matplotlib.legend.Legend at 0x13db84908>"
      ]
     },
     "execution_count": 50,
     "metadata": {},
     "output_type": "execute_result"
    }
   ],
   "source": [
    "plt.legend()"
   ]
  },
  {
   "cell_type": "code",
   "execution_count": 51,
   "metadata": {
    "collapsed": false
   },
   "outputs": [
    {
     "data": {
      "text/plain": [
       "<matplotlib.lines.Line2D at 0x138437160>"
      ]
     },
     "execution_count": 51,
     "metadata": {},
     "output_type": "execute_result"
    }
   ],
   "source": [
    "plt.axhline(-10,linewidth=0.5)"
   ]
  },
  {
   "cell_type": "code",
   "execution_count": 52,
   "metadata": {
    "collapsed": false
   },
   "outputs": [
    {
     "data": {
      "text/plain": [
       "<matplotlib.lines.Line2D at 0x13e9a4518>"
      ]
     },
     "execution_count": 52,
     "metadata": {},
     "output_type": "execute_result"
    }
   ],
   "source": [
    "plt.axhline(0,linewidth=0.5)\n",
    "plt.axhline(10,linewidth=0.5)\n",
    "plt.axhline(20,linewidth=0.5)\n",
    "plt.axhline(30,linewidth=0.5)"
   ]
  },
  {
   "cell_type": "code",
   "execution_count": 53,
   "metadata": {
    "collapsed": false
   },
   "outputs": [
    {
     "data": {
      "text/plain": [
       "<matplotlib.lines.Line2D at 0x13e9aa710>"
      ]
     },
     "execution_count": 53,
     "metadata": {},
     "output_type": "execute_result"
    }
   ],
   "source": [
    "plt.axvline(2048,linewidth=0.5)\n",
    "plt.axvline(2028,linewidth=0.5)\n",
    "plt.axvline(2008,linewidth=0.5)\n",
    "plt.axvline(2068,linewidth=0.5)\n",
    "plt.axvline(2088,linewidth=0.5)"
   ]
  },
  {
   "cell_type": "code",
   "execution_count": 60,
   "metadata": {
    "collapsed": false
   },
   "outputs": [
    {
     "data": {
      "text/plain": [
       "[<matplotlib.lines.Line2D at 0x1310369e8>]"
      ]
     },
     "execution_count": 60,
     "metadata": {},
     "output_type": "execute_result"
    }
   ],
   "source": [
    "x = np.arange(10000)\n",
    "sine = np.sin(2*np.pi*x/2000)\n",
    "\n",
    "y = sine * np.hanning(10000)\n",
    "\n",
    "\n",
    "plt.plot(sine)\n",
    "plt.plot(y)\n"
   ]
  },
  {
   "cell_type": "code",
   "execution_count": 62,
   "metadata": {
    "collapsed": false
   },
   "outputs": [
    {
     "data": {
      "text/plain": [
       "<matplotlib.legend.Legend at 0x12d675c18>"
      ]
     },
     "execution_count": 62,
     "metadata": {},
     "output_type": "execute_result"
    }
   ],
   "source": [
    "plt.hist(sine,histtype='step',label='square window')\n",
    "plt.hist(y,histtype='step',label='hanning window')\n",
    "plt.legend()"
   ]
  },
  {
   "cell_type": "code",
   "execution_count": null,
   "metadata": {
    "collapsed": true
   },
   "outputs": [],
   "source": []
  }
 ],
 "metadata": {
  "anaconda-cloud": {},
  "kernelspec": {
   "display_name": "Python [Root]",
   "language": "python",
   "name": "Python [Root]"
  },
  "language_info": {
   "codemirror_mode": {
    "name": "ipython",
    "version": 3
   },
   "file_extension": ".py",
   "mimetype": "text/x-python",
   "name": "python",
   "nbconvert_exporter": "python",
   "pygments_lexer": "ipython3",
   "version": "3.5.2"
  }
 },
 "nbformat": 4,
 "nbformat_minor": 2
}
